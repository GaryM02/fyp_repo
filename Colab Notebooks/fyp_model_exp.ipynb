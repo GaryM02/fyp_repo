{
  "nbformat": 4,
  "nbformat_minor": 0,
  "metadata": {
    "colab": {
      "provenance": [],
      "authorship_tag": "ABX9TyMHkKGmpHf9PHRKuhHZnAjO",
      "include_colab_link": true
    },
    "kernelspec": {
      "name": "python3",
      "display_name": "Python 3"
    },
    "language_info": {
      "name": "python"
    },
    "widgets": {
      "application/vnd.jupyter.widget-state+json": {
        "e925dded94ef496bac8f7838aad70853": {
          "model_module": "@jupyter-widgets/controls",
          "model_name": "HBoxModel",
          "model_module_version": "1.5.0",
          "state": {
            "_dom_classes": [],
            "_model_module": "@jupyter-widgets/controls",
            "_model_module_version": "1.5.0",
            "_model_name": "HBoxModel",
            "_view_count": null,
            "_view_module": "@jupyter-widgets/controls",
            "_view_module_version": "1.5.0",
            "_view_name": "HBoxView",
            "box_style": "",
            "children": [
              "IPY_MODEL_7b64bbda0b9c4982b62b33472704c9ea",
              "IPY_MODEL_bfc14c7743524867abc1747f85ba3658",
              "IPY_MODEL_a03641ac29954ff0b3040a8e1d42cd16"
            ],
            "layout": "IPY_MODEL_4692c719fed547bf8d28cb6576fdebed"
          }
        },
        "7b64bbda0b9c4982b62b33472704c9ea": {
          "model_module": "@jupyter-widgets/controls",
          "model_name": "HTMLModel",
          "model_module_version": "1.5.0",
          "state": {
            "_dom_classes": [],
            "_model_module": "@jupyter-widgets/controls",
            "_model_module_version": "1.5.0",
            "_model_name": "HTMLModel",
            "_view_count": null,
            "_view_module": "@jupyter-widgets/controls",
            "_view_module_version": "1.5.0",
            "_view_name": "HTMLView",
            "description": "",
            "description_tooltip": null,
            "layout": "IPY_MODEL_21febd34b9524f7f9bdf7521a78240f1",
            "placeholder": "​",
            "style": "IPY_MODEL_5ad03029317f44e1a57e65af2da9b875",
            "value": "tokenizer_config.json: 100%"
          }
        },
        "bfc14c7743524867abc1747f85ba3658": {
          "model_module": "@jupyter-widgets/controls",
          "model_name": "FloatProgressModel",
          "model_module_version": "1.5.0",
          "state": {
            "_dom_classes": [],
            "_model_module": "@jupyter-widgets/controls",
            "_model_module_version": "1.5.0",
            "_model_name": "FloatProgressModel",
            "_view_count": null,
            "_view_module": "@jupyter-widgets/controls",
            "_view_module_version": "1.5.0",
            "_view_name": "ProgressView",
            "bar_style": "success",
            "description": "",
            "description_tooltip": null,
            "layout": "IPY_MODEL_732b930045c94136ace37e5c498b97a8",
            "max": 350,
            "min": 0,
            "orientation": "horizontal",
            "style": "IPY_MODEL_3db6bef1022544318f6c672948b2689a",
            "value": 350
          }
        },
        "a03641ac29954ff0b3040a8e1d42cd16": {
          "model_module": "@jupyter-widgets/controls",
          "model_name": "HTMLModel",
          "model_module_version": "1.5.0",
          "state": {
            "_dom_classes": [],
            "_model_module": "@jupyter-widgets/controls",
            "_model_module_version": "1.5.0",
            "_model_name": "HTMLModel",
            "_view_count": null,
            "_view_module": "@jupyter-widgets/controls",
            "_view_module_version": "1.5.0",
            "_view_name": "HTMLView",
            "description": "",
            "description_tooltip": null,
            "layout": "IPY_MODEL_82d2e9976c064ca484fc32dd9e192fb9",
            "placeholder": "​",
            "style": "IPY_MODEL_45b48369547845ba88d29e1c6622adeb",
            "value": " 350/350 [00:00&lt;00:00, 17.6kB/s]"
          }
        },
        "4692c719fed547bf8d28cb6576fdebed": {
          "model_module": "@jupyter-widgets/base",
          "model_name": "LayoutModel",
          "model_module_version": "1.2.0",
          "state": {
            "_model_module": "@jupyter-widgets/base",
            "_model_module_version": "1.2.0",
            "_model_name": "LayoutModel",
            "_view_count": null,
            "_view_module": "@jupyter-widgets/base",
            "_view_module_version": "1.2.0",
            "_view_name": "LayoutView",
            "align_content": null,
            "align_items": null,
            "align_self": null,
            "border": null,
            "bottom": null,
            "display": null,
            "flex": null,
            "flex_flow": null,
            "grid_area": null,
            "grid_auto_columns": null,
            "grid_auto_flow": null,
            "grid_auto_rows": null,
            "grid_column": null,
            "grid_gap": null,
            "grid_row": null,
            "grid_template_areas": null,
            "grid_template_columns": null,
            "grid_template_rows": null,
            "height": null,
            "justify_content": null,
            "justify_items": null,
            "left": null,
            "margin": null,
            "max_height": null,
            "max_width": null,
            "min_height": null,
            "min_width": null,
            "object_fit": null,
            "object_position": null,
            "order": null,
            "overflow": null,
            "overflow_x": null,
            "overflow_y": null,
            "padding": null,
            "right": null,
            "top": null,
            "visibility": null,
            "width": null
          }
        },
        "21febd34b9524f7f9bdf7521a78240f1": {
          "model_module": "@jupyter-widgets/base",
          "model_name": "LayoutModel",
          "model_module_version": "1.2.0",
          "state": {
            "_model_module": "@jupyter-widgets/base",
            "_model_module_version": "1.2.0",
            "_model_name": "LayoutModel",
            "_view_count": null,
            "_view_module": "@jupyter-widgets/base",
            "_view_module_version": "1.2.0",
            "_view_name": "LayoutView",
            "align_content": null,
            "align_items": null,
            "align_self": null,
            "border": null,
            "bottom": null,
            "display": null,
            "flex": null,
            "flex_flow": null,
            "grid_area": null,
            "grid_auto_columns": null,
            "grid_auto_flow": null,
            "grid_auto_rows": null,
            "grid_column": null,
            "grid_gap": null,
            "grid_row": null,
            "grid_template_areas": null,
            "grid_template_columns": null,
            "grid_template_rows": null,
            "height": null,
            "justify_content": null,
            "justify_items": null,
            "left": null,
            "margin": null,
            "max_height": null,
            "max_width": null,
            "min_height": null,
            "min_width": null,
            "object_fit": null,
            "object_position": null,
            "order": null,
            "overflow": null,
            "overflow_x": null,
            "overflow_y": null,
            "padding": null,
            "right": null,
            "top": null,
            "visibility": null,
            "width": null
          }
        },
        "5ad03029317f44e1a57e65af2da9b875": {
          "model_module": "@jupyter-widgets/controls",
          "model_name": "DescriptionStyleModel",
          "model_module_version": "1.5.0",
          "state": {
            "_model_module": "@jupyter-widgets/controls",
            "_model_module_version": "1.5.0",
            "_model_name": "DescriptionStyleModel",
            "_view_count": null,
            "_view_module": "@jupyter-widgets/base",
            "_view_module_version": "1.2.0",
            "_view_name": "StyleView",
            "description_width": ""
          }
        },
        "732b930045c94136ace37e5c498b97a8": {
          "model_module": "@jupyter-widgets/base",
          "model_name": "LayoutModel",
          "model_module_version": "1.2.0",
          "state": {
            "_model_module": "@jupyter-widgets/base",
            "_model_module_version": "1.2.0",
            "_model_name": "LayoutModel",
            "_view_count": null,
            "_view_module": "@jupyter-widgets/base",
            "_view_module_version": "1.2.0",
            "_view_name": "LayoutView",
            "align_content": null,
            "align_items": null,
            "align_self": null,
            "border": null,
            "bottom": null,
            "display": null,
            "flex": null,
            "flex_flow": null,
            "grid_area": null,
            "grid_auto_columns": null,
            "grid_auto_flow": null,
            "grid_auto_rows": null,
            "grid_column": null,
            "grid_gap": null,
            "grid_row": null,
            "grid_template_areas": null,
            "grid_template_columns": null,
            "grid_template_rows": null,
            "height": null,
            "justify_content": null,
            "justify_items": null,
            "left": null,
            "margin": null,
            "max_height": null,
            "max_width": null,
            "min_height": null,
            "min_width": null,
            "object_fit": null,
            "object_position": null,
            "order": null,
            "overflow": null,
            "overflow_x": null,
            "overflow_y": null,
            "padding": null,
            "right": null,
            "top": null,
            "visibility": null,
            "width": null
          }
        },
        "3db6bef1022544318f6c672948b2689a": {
          "model_module": "@jupyter-widgets/controls",
          "model_name": "ProgressStyleModel",
          "model_module_version": "1.5.0",
          "state": {
            "_model_module": "@jupyter-widgets/controls",
            "_model_module_version": "1.5.0",
            "_model_name": "ProgressStyleModel",
            "_view_count": null,
            "_view_module": "@jupyter-widgets/base",
            "_view_module_version": "1.2.0",
            "_view_name": "StyleView",
            "bar_color": null,
            "description_width": ""
          }
        },
        "82d2e9976c064ca484fc32dd9e192fb9": {
          "model_module": "@jupyter-widgets/base",
          "model_name": "LayoutModel",
          "model_module_version": "1.2.0",
          "state": {
            "_model_module": "@jupyter-widgets/base",
            "_model_module_version": "1.2.0",
            "_model_name": "LayoutModel",
            "_view_count": null,
            "_view_module": "@jupyter-widgets/base",
            "_view_module_version": "1.2.0",
            "_view_name": "LayoutView",
            "align_content": null,
            "align_items": null,
            "align_self": null,
            "border": null,
            "bottom": null,
            "display": null,
            "flex": null,
            "flex_flow": null,
            "grid_area": null,
            "grid_auto_columns": null,
            "grid_auto_flow": null,
            "grid_auto_rows": null,
            "grid_column": null,
            "grid_gap": null,
            "grid_row": null,
            "grid_template_areas": null,
            "grid_template_columns": null,
            "grid_template_rows": null,
            "height": null,
            "justify_content": null,
            "justify_items": null,
            "left": null,
            "margin": null,
            "max_height": null,
            "max_width": null,
            "min_height": null,
            "min_width": null,
            "object_fit": null,
            "object_position": null,
            "order": null,
            "overflow": null,
            "overflow_x": null,
            "overflow_y": null,
            "padding": null,
            "right": null,
            "top": null,
            "visibility": null,
            "width": null
          }
        },
        "45b48369547845ba88d29e1c6622adeb": {
          "model_module": "@jupyter-widgets/controls",
          "model_name": "DescriptionStyleModel",
          "model_module_version": "1.5.0",
          "state": {
            "_model_module": "@jupyter-widgets/controls",
            "_model_module_version": "1.5.0",
            "_model_name": "DescriptionStyleModel",
            "_view_count": null,
            "_view_module": "@jupyter-widgets/base",
            "_view_module_version": "1.2.0",
            "_view_name": "StyleView",
            "description_width": ""
          }
        },
        "e3e8ec5e5b9f4c9b8eef85391bbad23c": {
          "model_module": "@jupyter-widgets/controls",
          "model_name": "HBoxModel",
          "model_module_version": "1.5.0",
          "state": {
            "_dom_classes": [],
            "_model_module": "@jupyter-widgets/controls",
            "_model_module_version": "1.5.0",
            "_model_name": "HBoxModel",
            "_view_count": null,
            "_view_module": "@jupyter-widgets/controls",
            "_view_module_version": "1.5.0",
            "_view_name": "HBoxView",
            "box_style": "",
            "children": [
              "IPY_MODEL_e647111dd26741b997baf00a326f15a8",
              "IPY_MODEL_59e11c16dc5f4aa4a4f5b4c30c0ddfd0",
              "IPY_MODEL_a784739578e84439bffa51cffb92276e"
            ],
            "layout": "IPY_MODEL_aefa8e0a2a444672ae17f12efcf567a1"
          }
        },
        "e647111dd26741b997baf00a326f15a8": {
          "model_module": "@jupyter-widgets/controls",
          "model_name": "HTMLModel",
          "model_module_version": "1.5.0",
          "state": {
            "_dom_classes": [],
            "_model_module": "@jupyter-widgets/controls",
            "_model_module_version": "1.5.0",
            "_model_name": "HTMLModel",
            "_view_count": null,
            "_view_module": "@jupyter-widgets/controls",
            "_view_module_version": "1.5.0",
            "_view_name": "HTMLView",
            "description": "",
            "description_tooltip": null,
            "layout": "IPY_MODEL_cfcab523794c45d5810447d88e790e39",
            "placeholder": "​",
            "style": "IPY_MODEL_8ec5e800795646c99564ae1690b5d7d3",
            "value": "vocab.txt: 100%"
          }
        },
        "59e11c16dc5f4aa4a4f5b4c30c0ddfd0": {
          "model_module": "@jupyter-widgets/controls",
          "model_name": "FloatProgressModel",
          "model_module_version": "1.5.0",
          "state": {
            "_dom_classes": [],
            "_model_module": "@jupyter-widgets/controls",
            "_model_module_version": "1.5.0",
            "_model_name": "FloatProgressModel",
            "_view_count": null,
            "_view_module": "@jupyter-widgets/controls",
            "_view_module_version": "1.5.0",
            "_view_name": "ProgressView",
            "bar_style": "success",
            "description": "",
            "description_tooltip": null,
            "layout": "IPY_MODEL_b1041ff384c0422fbd08812abde67165",
            "max": 231508,
            "min": 0,
            "orientation": "horizontal",
            "style": "IPY_MODEL_6a4870e5a6754ad2b6fd89c29edfe936",
            "value": 231508
          }
        },
        "a784739578e84439bffa51cffb92276e": {
          "model_module": "@jupyter-widgets/controls",
          "model_name": "HTMLModel",
          "model_module_version": "1.5.0",
          "state": {
            "_dom_classes": [],
            "_model_module": "@jupyter-widgets/controls",
            "_model_module_version": "1.5.0",
            "_model_name": "HTMLModel",
            "_view_count": null,
            "_view_module": "@jupyter-widgets/controls",
            "_view_module_version": "1.5.0",
            "_view_name": "HTMLView",
            "description": "",
            "description_tooltip": null,
            "layout": "IPY_MODEL_7d556c93ff704189b886ab7a7294aa55",
            "placeholder": "​",
            "style": "IPY_MODEL_935f2f4c96ba46608a23de7a9daff568",
            "value": " 232k/232k [00:00&lt;00:00, 9.88MB/s]"
          }
        },
        "aefa8e0a2a444672ae17f12efcf567a1": {
          "model_module": "@jupyter-widgets/base",
          "model_name": "LayoutModel",
          "model_module_version": "1.2.0",
          "state": {
            "_model_module": "@jupyter-widgets/base",
            "_model_module_version": "1.2.0",
            "_model_name": "LayoutModel",
            "_view_count": null,
            "_view_module": "@jupyter-widgets/base",
            "_view_module_version": "1.2.0",
            "_view_name": "LayoutView",
            "align_content": null,
            "align_items": null,
            "align_self": null,
            "border": null,
            "bottom": null,
            "display": null,
            "flex": null,
            "flex_flow": null,
            "grid_area": null,
            "grid_auto_columns": null,
            "grid_auto_flow": null,
            "grid_auto_rows": null,
            "grid_column": null,
            "grid_gap": null,
            "grid_row": null,
            "grid_template_areas": null,
            "grid_template_columns": null,
            "grid_template_rows": null,
            "height": null,
            "justify_content": null,
            "justify_items": null,
            "left": null,
            "margin": null,
            "max_height": null,
            "max_width": null,
            "min_height": null,
            "min_width": null,
            "object_fit": null,
            "object_position": null,
            "order": null,
            "overflow": null,
            "overflow_x": null,
            "overflow_y": null,
            "padding": null,
            "right": null,
            "top": null,
            "visibility": null,
            "width": null
          }
        },
        "cfcab523794c45d5810447d88e790e39": {
          "model_module": "@jupyter-widgets/base",
          "model_name": "LayoutModel",
          "model_module_version": "1.2.0",
          "state": {
            "_model_module": "@jupyter-widgets/base",
            "_model_module_version": "1.2.0",
            "_model_name": "LayoutModel",
            "_view_count": null,
            "_view_module": "@jupyter-widgets/base",
            "_view_module_version": "1.2.0",
            "_view_name": "LayoutView",
            "align_content": null,
            "align_items": null,
            "align_self": null,
            "border": null,
            "bottom": null,
            "display": null,
            "flex": null,
            "flex_flow": null,
            "grid_area": null,
            "grid_auto_columns": null,
            "grid_auto_flow": null,
            "grid_auto_rows": null,
            "grid_column": null,
            "grid_gap": null,
            "grid_row": null,
            "grid_template_areas": null,
            "grid_template_columns": null,
            "grid_template_rows": null,
            "height": null,
            "justify_content": null,
            "justify_items": null,
            "left": null,
            "margin": null,
            "max_height": null,
            "max_width": null,
            "min_height": null,
            "min_width": null,
            "object_fit": null,
            "object_position": null,
            "order": null,
            "overflow": null,
            "overflow_x": null,
            "overflow_y": null,
            "padding": null,
            "right": null,
            "top": null,
            "visibility": null,
            "width": null
          }
        },
        "8ec5e800795646c99564ae1690b5d7d3": {
          "model_module": "@jupyter-widgets/controls",
          "model_name": "DescriptionStyleModel",
          "model_module_version": "1.5.0",
          "state": {
            "_model_module": "@jupyter-widgets/controls",
            "_model_module_version": "1.5.0",
            "_model_name": "DescriptionStyleModel",
            "_view_count": null,
            "_view_module": "@jupyter-widgets/base",
            "_view_module_version": "1.2.0",
            "_view_name": "StyleView",
            "description_width": ""
          }
        },
        "b1041ff384c0422fbd08812abde67165": {
          "model_module": "@jupyter-widgets/base",
          "model_name": "LayoutModel",
          "model_module_version": "1.2.0",
          "state": {
            "_model_module": "@jupyter-widgets/base",
            "_model_module_version": "1.2.0",
            "_model_name": "LayoutModel",
            "_view_count": null,
            "_view_module": "@jupyter-widgets/base",
            "_view_module_version": "1.2.0",
            "_view_name": "LayoutView",
            "align_content": null,
            "align_items": null,
            "align_self": null,
            "border": null,
            "bottom": null,
            "display": null,
            "flex": null,
            "flex_flow": null,
            "grid_area": null,
            "grid_auto_columns": null,
            "grid_auto_flow": null,
            "grid_auto_rows": null,
            "grid_column": null,
            "grid_gap": null,
            "grid_row": null,
            "grid_template_areas": null,
            "grid_template_columns": null,
            "grid_template_rows": null,
            "height": null,
            "justify_content": null,
            "justify_items": null,
            "left": null,
            "margin": null,
            "max_height": null,
            "max_width": null,
            "min_height": null,
            "min_width": null,
            "object_fit": null,
            "object_position": null,
            "order": null,
            "overflow": null,
            "overflow_x": null,
            "overflow_y": null,
            "padding": null,
            "right": null,
            "top": null,
            "visibility": null,
            "width": null
          }
        },
        "6a4870e5a6754ad2b6fd89c29edfe936": {
          "model_module": "@jupyter-widgets/controls",
          "model_name": "ProgressStyleModel",
          "model_module_version": "1.5.0",
          "state": {
            "_model_module": "@jupyter-widgets/controls",
            "_model_module_version": "1.5.0",
            "_model_name": "ProgressStyleModel",
            "_view_count": null,
            "_view_module": "@jupyter-widgets/base",
            "_view_module_version": "1.2.0",
            "_view_name": "StyleView",
            "bar_color": null,
            "description_width": ""
          }
        },
        "7d556c93ff704189b886ab7a7294aa55": {
          "model_module": "@jupyter-widgets/base",
          "model_name": "LayoutModel",
          "model_module_version": "1.2.0",
          "state": {
            "_model_module": "@jupyter-widgets/base",
            "_model_module_version": "1.2.0",
            "_model_name": "LayoutModel",
            "_view_count": null,
            "_view_module": "@jupyter-widgets/base",
            "_view_module_version": "1.2.0",
            "_view_name": "LayoutView",
            "align_content": null,
            "align_items": null,
            "align_self": null,
            "border": null,
            "bottom": null,
            "display": null,
            "flex": null,
            "flex_flow": null,
            "grid_area": null,
            "grid_auto_columns": null,
            "grid_auto_flow": null,
            "grid_auto_rows": null,
            "grid_column": null,
            "grid_gap": null,
            "grid_row": null,
            "grid_template_areas": null,
            "grid_template_columns": null,
            "grid_template_rows": null,
            "height": null,
            "justify_content": null,
            "justify_items": null,
            "left": null,
            "margin": null,
            "max_height": null,
            "max_width": null,
            "min_height": null,
            "min_width": null,
            "object_fit": null,
            "object_position": null,
            "order": null,
            "overflow": null,
            "overflow_x": null,
            "overflow_y": null,
            "padding": null,
            "right": null,
            "top": null,
            "visibility": null,
            "width": null
          }
        },
        "935f2f4c96ba46608a23de7a9daff568": {
          "model_module": "@jupyter-widgets/controls",
          "model_name": "DescriptionStyleModel",
          "model_module_version": "1.5.0",
          "state": {
            "_model_module": "@jupyter-widgets/controls",
            "_model_module_version": "1.5.0",
            "_model_name": "DescriptionStyleModel",
            "_view_count": null,
            "_view_module": "@jupyter-widgets/base",
            "_view_module_version": "1.2.0",
            "_view_name": "StyleView",
            "description_width": ""
          }
        },
        "87bda8d3cd204ded828397b710c3e513": {
          "model_module": "@jupyter-widgets/controls",
          "model_name": "HBoxModel",
          "model_module_version": "1.5.0",
          "state": {
            "_dom_classes": [],
            "_model_module": "@jupyter-widgets/controls",
            "_model_module_version": "1.5.0",
            "_model_name": "HBoxModel",
            "_view_count": null,
            "_view_module": "@jupyter-widgets/controls",
            "_view_module_version": "1.5.0",
            "_view_name": "HBoxView",
            "box_style": "",
            "children": [
              "IPY_MODEL_a4f0dae258d04981997f937243e0348e",
              "IPY_MODEL_5b9c1b2d31d54285806863a383dd5875",
              "IPY_MODEL_8bb04fcf7b424f2a99fd27b3f327c288"
            ],
            "layout": "IPY_MODEL_a2dcf88c77d04f1fb9d8de1dacf59af1"
          }
        },
        "a4f0dae258d04981997f937243e0348e": {
          "model_module": "@jupyter-widgets/controls",
          "model_name": "HTMLModel",
          "model_module_version": "1.5.0",
          "state": {
            "_dom_classes": [],
            "_model_module": "@jupyter-widgets/controls",
            "_model_module_version": "1.5.0",
            "_model_name": "HTMLModel",
            "_view_count": null,
            "_view_module": "@jupyter-widgets/controls",
            "_view_module_version": "1.5.0",
            "_view_name": "HTMLView",
            "description": "",
            "description_tooltip": null,
            "layout": "IPY_MODEL_68cdc795d0be4aa09a2ac73926fa46e0",
            "placeholder": "​",
            "style": "IPY_MODEL_f93228d3215146318d77abe4a2536a6a",
            "value": "tokenizer.json: 100%"
          }
        },
        "5b9c1b2d31d54285806863a383dd5875": {
          "model_module": "@jupyter-widgets/controls",
          "model_name": "FloatProgressModel",
          "model_module_version": "1.5.0",
          "state": {
            "_dom_classes": [],
            "_model_module": "@jupyter-widgets/controls",
            "_model_module_version": "1.5.0",
            "_model_name": "FloatProgressModel",
            "_view_count": null,
            "_view_module": "@jupyter-widgets/controls",
            "_view_module_version": "1.5.0",
            "_view_name": "ProgressView",
            "bar_style": "success",
            "description": "",
            "description_tooltip": null,
            "layout": "IPY_MODEL_df8782858e1d421fbc7e7daa3c6e7d63",
            "max": 466247,
            "min": 0,
            "orientation": "horizontal",
            "style": "IPY_MODEL_f51c65786d3a4765b3b6935a8750ab12",
            "value": 466247
          }
        },
        "8bb04fcf7b424f2a99fd27b3f327c288": {
          "model_module": "@jupyter-widgets/controls",
          "model_name": "HTMLModel",
          "model_module_version": "1.5.0",
          "state": {
            "_dom_classes": [],
            "_model_module": "@jupyter-widgets/controls",
            "_model_module_version": "1.5.0",
            "_model_name": "HTMLModel",
            "_view_count": null,
            "_view_module": "@jupyter-widgets/controls",
            "_view_module_version": "1.5.0",
            "_view_name": "HTMLView",
            "description": "",
            "description_tooltip": null,
            "layout": "IPY_MODEL_d736ec635dc044aea26d5da7cad42a48",
            "placeholder": "​",
            "style": "IPY_MODEL_9f5f06d9985042e386cc9fbfaed48010",
            "value": " 466k/466k [00:00&lt;00:00, 2.16MB/s]"
          }
        },
        "a2dcf88c77d04f1fb9d8de1dacf59af1": {
          "model_module": "@jupyter-widgets/base",
          "model_name": "LayoutModel",
          "model_module_version": "1.2.0",
          "state": {
            "_model_module": "@jupyter-widgets/base",
            "_model_module_version": "1.2.0",
            "_model_name": "LayoutModel",
            "_view_count": null,
            "_view_module": "@jupyter-widgets/base",
            "_view_module_version": "1.2.0",
            "_view_name": "LayoutView",
            "align_content": null,
            "align_items": null,
            "align_self": null,
            "border": null,
            "bottom": null,
            "display": null,
            "flex": null,
            "flex_flow": null,
            "grid_area": null,
            "grid_auto_columns": null,
            "grid_auto_flow": null,
            "grid_auto_rows": null,
            "grid_column": null,
            "grid_gap": null,
            "grid_row": null,
            "grid_template_areas": null,
            "grid_template_columns": null,
            "grid_template_rows": null,
            "height": null,
            "justify_content": null,
            "justify_items": null,
            "left": null,
            "margin": null,
            "max_height": null,
            "max_width": null,
            "min_height": null,
            "min_width": null,
            "object_fit": null,
            "object_position": null,
            "order": null,
            "overflow": null,
            "overflow_x": null,
            "overflow_y": null,
            "padding": null,
            "right": null,
            "top": null,
            "visibility": null,
            "width": null
          }
        },
        "68cdc795d0be4aa09a2ac73926fa46e0": {
          "model_module": "@jupyter-widgets/base",
          "model_name": "LayoutModel",
          "model_module_version": "1.2.0",
          "state": {
            "_model_module": "@jupyter-widgets/base",
            "_model_module_version": "1.2.0",
            "_model_name": "LayoutModel",
            "_view_count": null,
            "_view_module": "@jupyter-widgets/base",
            "_view_module_version": "1.2.0",
            "_view_name": "LayoutView",
            "align_content": null,
            "align_items": null,
            "align_self": null,
            "border": null,
            "bottom": null,
            "display": null,
            "flex": null,
            "flex_flow": null,
            "grid_area": null,
            "grid_auto_columns": null,
            "grid_auto_flow": null,
            "grid_auto_rows": null,
            "grid_column": null,
            "grid_gap": null,
            "grid_row": null,
            "grid_template_areas": null,
            "grid_template_columns": null,
            "grid_template_rows": null,
            "height": null,
            "justify_content": null,
            "justify_items": null,
            "left": null,
            "margin": null,
            "max_height": null,
            "max_width": null,
            "min_height": null,
            "min_width": null,
            "object_fit": null,
            "object_position": null,
            "order": null,
            "overflow": null,
            "overflow_x": null,
            "overflow_y": null,
            "padding": null,
            "right": null,
            "top": null,
            "visibility": null,
            "width": null
          }
        },
        "f93228d3215146318d77abe4a2536a6a": {
          "model_module": "@jupyter-widgets/controls",
          "model_name": "DescriptionStyleModel",
          "model_module_version": "1.5.0",
          "state": {
            "_model_module": "@jupyter-widgets/controls",
            "_model_module_version": "1.5.0",
            "_model_name": "DescriptionStyleModel",
            "_view_count": null,
            "_view_module": "@jupyter-widgets/base",
            "_view_module_version": "1.2.0",
            "_view_name": "StyleView",
            "description_width": ""
          }
        },
        "df8782858e1d421fbc7e7daa3c6e7d63": {
          "model_module": "@jupyter-widgets/base",
          "model_name": "LayoutModel",
          "model_module_version": "1.2.0",
          "state": {
            "_model_module": "@jupyter-widgets/base",
            "_model_module_version": "1.2.0",
            "_model_name": "LayoutModel",
            "_view_count": null,
            "_view_module": "@jupyter-widgets/base",
            "_view_module_version": "1.2.0",
            "_view_name": "LayoutView",
            "align_content": null,
            "align_items": null,
            "align_self": null,
            "border": null,
            "bottom": null,
            "display": null,
            "flex": null,
            "flex_flow": null,
            "grid_area": null,
            "grid_auto_columns": null,
            "grid_auto_flow": null,
            "grid_auto_rows": null,
            "grid_column": null,
            "grid_gap": null,
            "grid_row": null,
            "grid_template_areas": null,
            "grid_template_columns": null,
            "grid_template_rows": null,
            "height": null,
            "justify_content": null,
            "justify_items": null,
            "left": null,
            "margin": null,
            "max_height": null,
            "max_width": null,
            "min_height": null,
            "min_width": null,
            "object_fit": null,
            "object_position": null,
            "order": null,
            "overflow": null,
            "overflow_x": null,
            "overflow_y": null,
            "padding": null,
            "right": null,
            "top": null,
            "visibility": null,
            "width": null
          }
        },
        "f51c65786d3a4765b3b6935a8750ab12": {
          "model_module": "@jupyter-widgets/controls",
          "model_name": "ProgressStyleModel",
          "model_module_version": "1.5.0",
          "state": {
            "_model_module": "@jupyter-widgets/controls",
            "_model_module_version": "1.5.0",
            "_model_name": "ProgressStyleModel",
            "_view_count": null,
            "_view_module": "@jupyter-widgets/base",
            "_view_module_version": "1.2.0",
            "_view_name": "StyleView",
            "bar_color": null,
            "description_width": ""
          }
        },
        "d736ec635dc044aea26d5da7cad42a48": {
          "model_module": "@jupyter-widgets/base",
          "model_name": "LayoutModel",
          "model_module_version": "1.2.0",
          "state": {
            "_model_module": "@jupyter-widgets/base",
            "_model_module_version": "1.2.0",
            "_model_name": "LayoutModel",
            "_view_count": null,
            "_view_module": "@jupyter-widgets/base",
            "_view_module_version": "1.2.0",
            "_view_name": "LayoutView",
            "align_content": null,
            "align_items": null,
            "align_self": null,
            "border": null,
            "bottom": null,
            "display": null,
            "flex": null,
            "flex_flow": null,
            "grid_area": null,
            "grid_auto_columns": null,
            "grid_auto_flow": null,
            "grid_auto_rows": null,
            "grid_column": null,
            "grid_gap": null,
            "grid_row": null,
            "grid_template_areas": null,
            "grid_template_columns": null,
            "grid_template_rows": null,
            "height": null,
            "justify_content": null,
            "justify_items": null,
            "left": null,
            "margin": null,
            "max_height": null,
            "max_width": null,
            "min_height": null,
            "min_width": null,
            "object_fit": null,
            "object_position": null,
            "order": null,
            "overflow": null,
            "overflow_x": null,
            "overflow_y": null,
            "padding": null,
            "right": null,
            "top": null,
            "visibility": null,
            "width": null
          }
        },
        "9f5f06d9985042e386cc9fbfaed48010": {
          "model_module": "@jupyter-widgets/controls",
          "model_name": "DescriptionStyleModel",
          "model_module_version": "1.5.0",
          "state": {
            "_model_module": "@jupyter-widgets/controls",
            "_model_module_version": "1.5.0",
            "_model_name": "DescriptionStyleModel",
            "_view_count": null,
            "_view_module": "@jupyter-widgets/base",
            "_view_module_version": "1.2.0",
            "_view_name": "StyleView",
            "description_width": ""
          }
        },
        "914e28bd41074c62b9b12142a9aa58e6": {
          "model_module": "@jupyter-widgets/controls",
          "model_name": "HBoxModel",
          "model_module_version": "1.5.0",
          "state": {
            "_dom_classes": [],
            "_model_module": "@jupyter-widgets/controls",
            "_model_module_version": "1.5.0",
            "_model_name": "HBoxModel",
            "_view_count": null,
            "_view_module": "@jupyter-widgets/controls",
            "_view_module_version": "1.5.0",
            "_view_name": "HBoxView",
            "box_style": "",
            "children": [
              "IPY_MODEL_6e309b1260534be29f9410e6897064dd",
              "IPY_MODEL_5464cb1e4f7f41a9be02c5ae173ea49a",
              "IPY_MODEL_d29a7958ff12499fb66fb9c3d70d4573"
            ],
            "layout": "IPY_MODEL_b240404e4c104ecda47c72e0d01d06d4"
          }
        },
        "6e309b1260534be29f9410e6897064dd": {
          "model_module": "@jupyter-widgets/controls",
          "model_name": "HTMLModel",
          "model_module_version": "1.5.0",
          "state": {
            "_dom_classes": [],
            "_model_module": "@jupyter-widgets/controls",
            "_model_module_version": "1.5.0",
            "_model_name": "HTMLModel",
            "_view_count": null,
            "_view_module": "@jupyter-widgets/controls",
            "_view_module_version": "1.5.0",
            "_view_name": "HTMLView",
            "description": "",
            "description_tooltip": null,
            "layout": "IPY_MODEL_fde70aaf13734c3eb461926e0a6beec3",
            "placeholder": "​",
            "style": "IPY_MODEL_3d2bd090a8ba40cfa4ef108a1d1c40d7",
            "value": "special_tokens_map.json: 100%"
          }
        },
        "5464cb1e4f7f41a9be02c5ae173ea49a": {
          "model_module": "@jupyter-widgets/controls",
          "model_name": "FloatProgressModel",
          "model_module_version": "1.5.0",
          "state": {
            "_dom_classes": [],
            "_model_module": "@jupyter-widgets/controls",
            "_model_module_version": "1.5.0",
            "_model_name": "FloatProgressModel",
            "_view_count": null,
            "_view_module": "@jupyter-widgets/controls",
            "_view_module_version": "1.5.0",
            "_view_name": "ProgressView",
            "bar_style": "success",
            "description": "",
            "description_tooltip": null,
            "layout": "IPY_MODEL_c30f499861f046149e3e7bfd1c61527d",
            "max": 112,
            "min": 0,
            "orientation": "horizontal",
            "style": "IPY_MODEL_4c28d961f83340a0ad638c3c6f19ef74",
            "value": 112
          }
        },
        "d29a7958ff12499fb66fb9c3d70d4573": {
          "model_module": "@jupyter-widgets/controls",
          "model_name": "HTMLModel",
          "model_module_version": "1.5.0",
          "state": {
            "_dom_classes": [],
            "_model_module": "@jupyter-widgets/controls",
            "_model_module_version": "1.5.0",
            "_model_name": "HTMLModel",
            "_view_count": null,
            "_view_module": "@jupyter-widgets/controls",
            "_view_module_version": "1.5.0",
            "_view_name": "HTMLView",
            "description": "",
            "description_tooltip": null,
            "layout": "IPY_MODEL_eda076f6960a428fae962d37c65f6231",
            "placeholder": "​",
            "style": "IPY_MODEL_7ac0cfd0538f4c73864785b5274eb56b",
            "value": " 112/112 [00:00&lt;00:00, 6.92kB/s]"
          }
        },
        "b240404e4c104ecda47c72e0d01d06d4": {
          "model_module": "@jupyter-widgets/base",
          "model_name": "LayoutModel",
          "model_module_version": "1.2.0",
          "state": {
            "_model_module": "@jupyter-widgets/base",
            "_model_module_version": "1.2.0",
            "_model_name": "LayoutModel",
            "_view_count": null,
            "_view_module": "@jupyter-widgets/base",
            "_view_module_version": "1.2.0",
            "_view_name": "LayoutView",
            "align_content": null,
            "align_items": null,
            "align_self": null,
            "border": null,
            "bottom": null,
            "display": null,
            "flex": null,
            "flex_flow": null,
            "grid_area": null,
            "grid_auto_columns": null,
            "grid_auto_flow": null,
            "grid_auto_rows": null,
            "grid_column": null,
            "grid_gap": null,
            "grid_row": null,
            "grid_template_areas": null,
            "grid_template_columns": null,
            "grid_template_rows": null,
            "height": null,
            "justify_content": null,
            "justify_items": null,
            "left": null,
            "margin": null,
            "max_height": null,
            "max_width": null,
            "min_height": null,
            "min_width": null,
            "object_fit": null,
            "object_position": null,
            "order": null,
            "overflow": null,
            "overflow_x": null,
            "overflow_y": null,
            "padding": null,
            "right": null,
            "top": null,
            "visibility": null,
            "width": null
          }
        },
        "fde70aaf13734c3eb461926e0a6beec3": {
          "model_module": "@jupyter-widgets/base",
          "model_name": "LayoutModel",
          "model_module_version": "1.2.0",
          "state": {
            "_model_module": "@jupyter-widgets/base",
            "_model_module_version": "1.2.0",
            "_model_name": "LayoutModel",
            "_view_count": null,
            "_view_module": "@jupyter-widgets/base",
            "_view_module_version": "1.2.0",
            "_view_name": "LayoutView",
            "align_content": null,
            "align_items": null,
            "align_self": null,
            "border": null,
            "bottom": null,
            "display": null,
            "flex": null,
            "flex_flow": null,
            "grid_area": null,
            "grid_auto_columns": null,
            "grid_auto_flow": null,
            "grid_auto_rows": null,
            "grid_column": null,
            "grid_gap": null,
            "grid_row": null,
            "grid_template_areas": null,
            "grid_template_columns": null,
            "grid_template_rows": null,
            "height": null,
            "justify_content": null,
            "justify_items": null,
            "left": null,
            "margin": null,
            "max_height": null,
            "max_width": null,
            "min_height": null,
            "min_width": null,
            "object_fit": null,
            "object_position": null,
            "order": null,
            "overflow": null,
            "overflow_x": null,
            "overflow_y": null,
            "padding": null,
            "right": null,
            "top": null,
            "visibility": null,
            "width": null
          }
        },
        "3d2bd090a8ba40cfa4ef108a1d1c40d7": {
          "model_module": "@jupyter-widgets/controls",
          "model_name": "DescriptionStyleModel",
          "model_module_version": "1.5.0",
          "state": {
            "_model_module": "@jupyter-widgets/controls",
            "_model_module_version": "1.5.0",
            "_model_name": "DescriptionStyleModel",
            "_view_count": null,
            "_view_module": "@jupyter-widgets/base",
            "_view_module_version": "1.2.0",
            "_view_name": "StyleView",
            "description_width": ""
          }
        },
        "c30f499861f046149e3e7bfd1c61527d": {
          "model_module": "@jupyter-widgets/base",
          "model_name": "LayoutModel",
          "model_module_version": "1.2.0",
          "state": {
            "_model_module": "@jupyter-widgets/base",
            "_model_module_version": "1.2.0",
            "_model_name": "LayoutModel",
            "_view_count": null,
            "_view_module": "@jupyter-widgets/base",
            "_view_module_version": "1.2.0",
            "_view_name": "LayoutView",
            "align_content": null,
            "align_items": null,
            "align_self": null,
            "border": null,
            "bottom": null,
            "display": null,
            "flex": null,
            "flex_flow": null,
            "grid_area": null,
            "grid_auto_columns": null,
            "grid_auto_flow": null,
            "grid_auto_rows": null,
            "grid_column": null,
            "grid_gap": null,
            "grid_row": null,
            "grid_template_areas": null,
            "grid_template_columns": null,
            "grid_template_rows": null,
            "height": null,
            "justify_content": null,
            "justify_items": null,
            "left": null,
            "margin": null,
            "max_height": null,
            "max_width": null,
            "min_height": null,
            "min_width": null,
            "object_fit": null,
            "object_position": null,
            "order": null,
            "overflow": null,
            "overflow_x": null,
            "overflow_y": null,
            "padding": null,
            "right": null,
            "top": null,
            "visibility": null,
            "width": null
          }
        },
        "4c28d961f83340a0ad638c3c6f19ef74": {
          "model_module": "@jupyter-widgets/controls",
          "model_name": "ProgressStyleModel",
          "model_module_version": "1.5.0",
          "state": {
            "_model_module": "@jupyter-widgets/controls",
            "_model_module_version": "1.5.0",
            "_model_name": "ProgressStyleModel",
            "_view_count": null,
            "_view_module": "@jupyter-widgets/base",
            "_view_module_version": "1.2.0",
            "_view_name": "StyleView",
            "bar_color": null,
            "description_width": ""
          }
        },
        "eda076f6960a428fae962d37c65f6231": {
          "model_module": "@jupyter-widgets/base",
          "model_name": "LayoutModel",
          "model_module_version": "1.2.0",
          "state": {
            "_model_module": "@jupyter-widgets/base",
            "_model_module_version": "1.2.0",
            "_model_name": "LayoutModel",
            "_view_count": null,
            "_view_module": "@jupyter-widgets/base",
            "_view_module_version": "1.2.0",
            "_view_name": "LayoutView",
            "align_content": null,
            "align_items": null,
            "align_self": null,
            "border": null,
            "bottom": null,
            "display": null,
            "flex": null,
            "flex_flow": null,
            "grid_area": null,
            "grid_auto_columns": null,
            "grid_auto_flow": null,
            "grid_auto_rows": null,
            "grid_column": null,
            "grid_gap": null,
            "grid_row": null,
            "grid_template_areas": null,
            "grid_template_columns": null,
            "grid_template_rows": null,
            "height": null,
            "justify_content": null,
            "justify_items": null,
            "left": null,
            "margin": null,
            "max_height": null,
            "max_width": null,
            "min_height": null,
            "min_width": null,
            "object_fit": null,
            "object_position": null,
            "order": null,
            "overflow": null,
            "overflow_x": null,
            "overflow_y": null,
            "padding": null,
            "right": null,
            "top": null,
            "visibility": null,
            "width": null
          }
        },
        "7ac0cfd0538f4c73864785b5274eb56b": {
          "model_module": "@jupyter-widgets/controls",
          "model_name": "DescriptionStyleModel",
          "model_module_version": "1.5.0",
          "state": {
            "_model_module": "@jupyter-widgets/controls",
            "_model_module_version": "1.5.0",
            "_model_name": "DescriptionStyleModel",
            "_view_count": null,
            "_view_module": "@jupyter-widgets/base",
            "_view_module_version": "1.2.0",
            "_view_name": "StyleView",
            "description_width": ""
          }
        },
        "bedcf1dd76e14dea8b404bc2c1c18c22": {
          "model_module": "@jupyter-widgets/controls",
          "model_name": "HBoxModel",
          "model_module_version": "1.5.0",
          "state": {
            "_dom_classes": [],
            "_model_module": "@jupyter-widgets/controls",
            "_model_module_version": "1.5.0",
            "_model_name": "HBoxModel",
            "_view_count": null,
            "_view_module": "@jupyter-widgets/controls",
            "_view_module_version": "1.5.0",
            "_view_name": "HBoxView",
            "box_style": "",
            "children": [
              "IPY_MODEL_c8996b648d5a4ffa8f643e3eb1ba4e17",
              "IPY_MODEL_05ba827074f24e83aa452d81b160a985",
              "IPY_MODEL_8e4cd8a7295442f98fa77d334117161b"
            ],
            "layout": "IPY_MODEL_ee3a3a3de0cc4b76a8cf0ecb8e7aeb8c"
          }
        },
        "c8996b648d5a4ffa8f643e3eb1ba4e17": {
          "model_module": "@jupyter-widgets/controls",
          "model_name": "HTMLModel",
          "model_module_version": "1.5.0",
          "state": {
            "_dom_classes": [],
            "_model_module": "@jupyter-widgets/controls",
            "_model_module_version": "1.5.0",
            "_model_name": "HTMLModel",
            "_view_count": null,
            "_view_module": "@jupyter-widgets/controls",
            "_view_module_version": "1.5.0",
            "_view_name": "HTMLView",
            "description": "",
            "description_tooltip": null,
            "layout": "IPY_MODEL_6bc576466c7748bd94a8a9539064abcb",
            "placeholder": "​",
            "style": "IPY_MODEL_5168bd865edd4ade91727c563cc50106",
            "value": "config.json: 100%"
          }
        },
        "05ba827074f24e83aa452d81b160a985": {
          "model_module": "@jupyter-widgets/controls",
          "model_name": "FloatProgressModel",
          "model_module_version": "1.5.0",
          "state": {
            "_dom_classes": [],
            "_model_module": "@jupyter-widgets/controls",
            "_model_module_version": "1.5.0",
            "_model_name": "FloatProgressModel",
            "_view_count": null,
            "_view_module": "@jupyter-widgets/controls",
            "_view_module_version": "1.5.0",
            "_view_name": "ProgressView",
            "bar_style": "success",
            "description": "",
            "description_tooltip": null,
            "layout": "IPY_MODEL_ae237753da7e4cf1aa61e2d21bd62fff",
            "max": 612,
            "min": 0,
            "orientation": "horizontal",
            "style": "IPY_MODEL_3fe30b51c1b84d4e9ae2bc5cd8c4ab70",
            "value": 612
          }
        },
        "8e4cd8a7295442f98fa77d334117161b": {
          "model_module": "@jupyter-widgets/controls",
          "model_name": "HTMLModel",
          "model_module_version": "1.5.0",
          "state": {
            "_dom_classes": [],
            "_model_module": "@jupyter-widgets/controls",
            "_model_module_version": "1.5.0",
            "_model_name": "HTMLModel",
            "_view_count": null,
            "_view_module": "@jupyter-widgets/controls",
            "_view_module_version": "1.5.0",
            "_view_name": "HTMLView",
            "description": "",
            "description_tooltip": null,
            "layout": "IPY_MODEL_c5a5475a75da4f7e87a254376976d106",
            "placeholder": "​",
            "style": "IPY_MODEL_f9db1ca6c32749ec8d178384377ea875",
            "value": " 612/612 [00:00&lt;00:00, 51.5kB/s]"
          }
        },
        "ee3a3a3de0cc4b76a8cf0ecb8e7aeb8c": {
          "model_module": "@jupyter-widgets/base",
          "model_name": "LayoutModel",
          "model_module_version": "1.2.0",
          "state": {
            "_model_module": "@jupyter-widgets/base",
            "_model_module_version": "1.2.0",
            "_model_name": "LayoutModel",
            "_view_count": null,
            "_view_module": "@jupyter-widgets/base",
            "_view_module_version": "1.2.0",
            "_view_name": "LayoutView",
            "align_content": null,
            "align_items": null,
            "align_self": null,
            "border": null,
            "bottom": null,
            "display": null,
            "flex": null,
            "flex_flow": null,
            "grid_area": null,
            "grid_auto_columns": null,
            "grid_auto_flow": null,
            "grid_auto_rows": null,
            "grid_column": null,
            "grid_gap": null,
            "grid_row": null,
            "grid_template_areas": null,
            "grid_template_columns": null,
            "grid_template_rows": null,
            "height": null,
            "justify_content": null,
            "justify_items": null,
            "left": null,
            "margin": null,
            "max_height": null,
            "max_width": null,
            "min_height": null,
            "min_width": null,
            "object_fit": null,
            "object_position": null,
            "order": null,
            "overflow": null,
            "overflow_x": null,
            "overflow_y": null,
            "padding": null,
            "right": null,
            "top": null,
            "visibility": null,
            "width": null
          }
        },
        "6bc576466c7748bd94a8a9539064abcb": {
          "model_module": "@jupyter-widgets/base",
          "model_name": "LayoutModel",
          "model_module_version": "1.2.0",
          "state": {
            "_model_module": "@jupyter-widgets/base",
            "_model_module_version": "1.2.0",
            "_model_name": "LayoutModel",
            "_view_count": null,
            "_view_module": "@jupyter-widgets/base",
            "_view_module_version": "1.2.0",
            "_view_name": "LayoutView",
            "align_content": null,
            "align_items": null,
            "align_self": null,
            "border": null,
            "bottom": null,
            "display": null,
            "flex": null,
            "flex_flow": null,
            "grid_area": null,
            "grid_auto_columns": null,
            "grid_auto_flow": null,
            "grid_auto_rows": null,
            "grid_column": null,
            "grid_gap": null,
            "grid_row": null,
            "grid_template_areas": null,
            "grid_template_columns": null,
            "grid_template_rows": null,
            "height": null,
            "justify_content": null,
            "justify_items": null,
            "left": null,
            "margin": null,
            "max_height": null,
            "max_width": null,
            "min_height": null,
            "min_width": null,
            "object_fit": null,
            "object_position": null,
            "order": null,
            "overflow": null,
            "overflow_x": null,
            "overflow_y": null,
            "padding": null,
            "right": null,
            "top": null,
            "visibility": null,
            "width": null
          }
        },
        "5168bd865edd4ade91727c563cc50106": {
          "model_module": "@jupyter-widgets/controls",
          "model_name": "DescriptionStyleModel",
          "model_module_version": "1.5.0",
          "state": {
            "_model_module": "@jupyter-widgets/controls",
            "_model_module_version": "1.5.0",
            "_model_name": "DescriptionStyleModel",
            "_view_count": null,
            "_view_module": "@jupyter-widgets/base",
            "_view_module_version": "1.2.0",
            "_view_name": "StyleView",
            "description_width": ""
          }
        },
        "ae237753da7e4cf1aa61e2d21bd62fff": {
          "model_module": "@jupyter-widgets/base",
          "model_name": "LayoutModel",
          "model_module_version": "1.2.0",
          "state": {
            "_model_module": "@jupyter-widgets/base",
            "_model_module_version": "1.2.0",
            "_model_name": "LayoutModel",
            "_view_count": null,
            "_view_module": "@jupyter-widgets/base",
            "_view_module_version": "1.2.0",
            "_view_name": "LayoutView",
            "align_content": null,
            "align_items": null,
            "align_self": null,
            "border": null,
            "bottom": null,
            "display": null,
            "flex": null,
            "flex_flow": null,
            "grid_area": null,
            "grid_auto_columns": null,
            "grid_auto_flow": null,
            "grid_auto_rows": null,
            "grid_column": null,
            "grid_gap": null,
            "grid_row": null,
            "grid_template_areas": null,
            "grid_template_columns": null,
            "grid_template_rows": null,
            "height": null,
            "justify_content": null,
            "justify_items": null,
            "left": null,
            "margin": null,
            "max_height": null,
            "max_width": null,
            "min_height": null,
            "min_width": null,
            "object_fit": null,
            "object_position": null,
            "order": null,
            "overflow": null,
            "overflow_x": null,
            "overflow_y": null,
            "padding": null,
            "right": null,
            "top": null,
            "visibility": null,
            "width": null
          }
        },
        "3fe30b51c1b84d4e9ae2bc5cd8c4ab70": {
          "model_module": "@jupyter-widgets/controls",
          "model_name": "ProgressStyleModel",
          "model_module_version": "1.5.0",
          "state": {
            "_model_module": "@jupyter-widgets/controls",
            "_model_module_version": "1.5.0",
            "_model_name": "ProgressStyleModel",
            "_view_count": null,
            "_view_module": "@jupyter-widgets/base",
            "_view_module_version": "1.2.0",
            "_view_name": "StyleView",
            "bar_color": null,
            "description_width": ""
          }
        },
        "c5a5475a75da4f7e87a254376976d106": {
          "model_module": "@jupyter-widgets/base",
          "model_name": "LayoutModel",
          "model_module_version": "1.2.0",
          "state": {
            "_model_module": "@jupyter-widgets/base",
            "_model_module_version": "1.2.0",
            "_model_name": "LayoutModel",
            "_view_count": null,
            "_view_module": "@jupyter-widgets/base",
            "_view_module_version": "1.2.0",
            "_view_name": "LayoutView",
            "align_content": null,
            "align_items": null,
            "align_self": null,
            "border": null,
            "bottom": null,
            "display": null,
            "flex": null,
            "flex_flow": null,
            "grid_area": null,
            "grid_auto_columns": null,
            "grid_auto_flow": null,
            "grid_auto_rows": null,
            "grid_column": null,
            "grid_gap": null,
            "grid_row": null,
            "grid_template_areas": null,
            "grid_template_columns": null,
            "grid_template_rows": null,
            "height": null,
            "justify_content": null,
            "justify_items": null,
            "left": null,
            "margin": null,
            "max_height": null,
            "max_width": null,
            "min_height": null,
            "min_width": null,
            "object_fit": null,
            "object_position": null,
            "order": null,
            "overflow": null,
            "overflow_x": null,
            "overflow_y": null,
            "padding": null,
            "right": null,
            "top": null,
            "visibility": null,
            "width": null
          }
        },
        "f9db1ca6c32749ec8d178384377ea875": {
          "model_module": "@jupyter-widgets/controls",
          "model_name": "DescriptionStyleModel",
          "model_module_version": "1.5.0",
          "state": {
            "_model_module": "@jupyter-widgets/controls",
            "_model_module_version": "1.5.0",
            "_model_name": "DescriptionStyleModel",
            "_view_count": null,
            "_view_module": "@jupyter-widgets/base",
            "_view_module_version": "1.2.0",
            "_view_name": "StyleView",
            "description_width": ""
          }
        },
        "d49e5f06646b4629bd0a686ad7504d2e": {
          "model_module": "@jupyter-widgets/controls",
          "model_name": "HBoxModel",
          "model_module_version": "1.5.0",
          "state": {
            "_dom_classes": [],
            "_model_module": "@jupyter-widgets/controls",
            "_model_module_version": "1.5.0",
            "_model_name": "HBoxModel",
            "_view_count": null,
            "_view_module": "@jupyter-widgets/controls",
            "_view_module_version": "1.5.0",
            "_view_name": "HBoxView",
            "box_style": "",
            "children": [
              "IPY_MODEL_ee9453280e0640a7881b7f79fcd9d744",
              "IPY_MODEL_859b6cfc6c84477cabd481b302cbff6b",
              "IPY_MODEL_6b63c9a07a0c42b8828e0bd882f07825"
            ],
            "layout": "IPY_MODEL_2a08cd3026a44b0699173e8b278803f6"
          }
        },
        "ee9453280e0640a7881b7f79fcd9d744": {
          "model_module": "@jupyter-widgets/controls",
          "model_name": "HTMLModel",
          "model_module_version": "1.5.0",
          "state": {
            "_dom_classes": [],
            "_model_module": "@jupyter-widgets/controls",
            "_model_module_version": "1.5.0",
            "_model_name": "HTMLModel",
            "_view_count": null,
            "_view_module": "@jupyter-widgets/controls",
            "_view_module_version": "1.5.0",
            "_view_name": "HTMLView",
            "description": "",
            "description_tooltip": null,
            "layout": "IPY_MODEL_10cde00a5cab4dba953f6e6034c7d091",
            "placeholder": "​",
            "style": "IPY_MODEL_5e546dc7801147ee9f68c089ffa1d7ff",
            "value": "model.safetensors: 100%"
          }
        },
        "859b6cfc6c84477cabd481b302cbff6b": {
          "model_module": "@jupyter-widgets/controls",
          "model_name": "FloatProgressModel",
          "model_module_version": "1.5.0",
          "state": {
            "_dom_classes": [],
            "_model_module": "@jupyter-widgets/controls",
            "_model_module_version": "1.5.0",
            "_model_name": "FloatProgressModel",
            "_view_count": null,
            "_view_module": "@jupyter-widgets/controls",
            "_view_module_version": "1.5.0",
            "_view_name": "ProgressView",
            "bar_style": "success",
            "description": "",
            "description_tooltip": null,
            "layout": "IPY_MODEL_af5597efb0fd43c4a29cb936ce641139",
            "max": 90868376,
            "min": 0,
            "orientation": "horizontal",
            "style": "IPY_MODEL_c6c0824a02054f8890ac69aca5feaf35",
            "value": 90868376
          }
        },
        "6b63c9a07a0c42b8828e0bd882f07825": {
          "model_module": "@jupyter-widgets/controls",
          "model_name": "HTMLModel",
          "model_module_version": "1.5.0",
          "state": {
            "_dom_classes": [],
            "_model_module": "@jupyter-widgets/controls",
            "_model_module_version": "1.5.0",
            "_model_name": "HTMLModel",
            "_view_count": null,
            "_view_module": "@jupyter-widgets/controls",
            "_view_module_version": "1.5.0",
            "_view_name": "HTMLView",
            "description": "",
            "description_tooltip": null,
            "layout": "IPY_MODEL_75dbf0b1882146daaa665fbc479ca762",
            "placeholder": "​",
            "style": "IPY_MODEL_62a981cdc80946288cda71e8146f6701",
            "value": " 90.9M/90.9M [00:00&lt;00:00, 222MB/s]"
          }
        },
        "2a08cd3026a44b0699173e8b278803f6": {
          "model_module": "@jupyter-widgets/base",
          "model_name": "LayoutModel",
          "model_module_version": "1.2.0",
          "state": {
            "_model_module": "@jupyter-widgets/base",
            "_model_module_version": "1.2.0",
            "_model_name": "LayoutModel",
            "_view_count": null,
            "_view_module": "@jupyter-widgets/base",
            "_view_module_version": "1.2.0",
            "_view_name": "LayoutView",
            "align_content": null,
            "align_items": null,
            "align_self": null,
            "border": null,
            "bottom": null,
            "display": null,
            "flex": null,
            "flex_flow": null,
            "grid_area": null,
            "grid_auto_columns": null,
            "grid_auto_flow": null,
            "grid_auto_rows": null,
            "grid_column": null,
            "grid_gap": null,
            "grid_row": null,
            "grid_template_areas": null,
            "grid_template_columns": null,
            "grid_template_rows": null,
            "height": null,
            "justify_content": null,
            "justify_items": null,
            "left": null,
            "margin": null,
            "max_height": null,
            "max_width": null,
            "min_height": null,
            "min_width": null,
            "object_fit": null,
            "object_position": null,
            "order": null,
            "overflow": null,
            "overflow_x": null,
            "overflow_y": null,
            "padding": null,
            "right": null,
            "top": null,
            "visibility": null,
            "width": null
          }
        },
        "10cde00a5cab4dba953f6e6034c7d091": {
          "model_module": "@jupyter-widgets/base",
          "model_name": "LayoutModel",
          "model_module_version": "1.2.0",
          "state": {
            "_model_module": "@jupyter-widgets/base",
            "_model_module_version": "1.2.0",
            "_model_name": "LayoutModel",
            "_view_count": null,
            "_view_module": "@jupyter-widgets/base",
            "_view_module_version": "1.2.0",
            "_view_name": "LayoutView",
            "align_content": null,
            "align_items": null,
            "align_self": null,
            "border": null,
            "bottom": null,
            "display": null,
            "flex": null,
            "flex_flow": null,
            "grid_area": null,
            "grid_auto_columns": null,
            "grid_auto_flow": null,
            "grid_auto_rows": null,
            "grid_column": null,
            "grid_gap": null,
            "grid_row": null,
            "grid_template_areas": null,
            "grid_template_columns": null,
            "grid_template_rows": null,
            "height": null,
            "justify_content": null,
            "justify_items": null,
            "left": null,
            "margin": null,
            "max_height": null,
            "max_width": null,
            "min_height": null,
            "min_width": null,
            "object_fit": null,
            "object_position": null,
            "order": null,
            "overflow": null,
            "overflow_x": null,
            "overflow_y": null,
            "padding": null,
            "right": null,
            "top": null,
            "visibility": null,
            "width": null
          }
        },
        "5e546dc7801147ee9f68c089ffa1d7ff": {
          "model_module": "@jupyter-widgets/controls",
          "model_name": "DescriptionStyleModel",
          "model_module_version": "1.5.0",
          "state": {
            "_model_module": "@jupyter-widgets/controls",
            "_model_module_version": "1.5.0",
            "_model_name": "DescriptionStyleModel",
            "_view_count": null,
            "_view_module": "@jupyter-widgets/base",
            "_view_module_version": "1.2.0",
            "_view_name": "StyleView",
            "description_width": ""
          }
        },
        "af5597efb0fd43c4a29cb936ce641139": {
          "model_module": "@jupyter-widgets/base",
          "model_name": "LayoutModel",
          "model_module_version": "1.2.0",
          "state": {
            "_model_module": "@jupyter-widgets/base",
            "_model_module_version": "1.2.0",
            "_model_name": "LayoutModel",
            "_view_count": null,
            "_view_module": "@jupyter-widgets/base",
            "_view_module_version": "1.2.0",
            "_view_name": "LayoutView",
            "align_content": null,
            "align_items": null,
            "align_self": null,
            "border": null,
            "bottom": null,
            "display": null,
            "flex": null,
            "flex_flow": null,
            "grid_area": null,
            "grid_auto_columns": null,
            "grid_auto_flow": null,
            "grid_auto_rows": null,
            "grid_column": null,
            "grid_gap": null,
            "grid_row": null,
            "grid_template_areas": null,
            "grid_template_columns": null,
            "grid_template_rows": null,
            "height": null,
            "justify_content": null,
            "justify_items": null,
            "left": null,
            "margin": null,
            "max_height": null,
            "max_width": null,
            "min_height": null,
            "min_width": null,
            "object_fit": null,
            "object_position": null,
            "order": null,
            "overflow": null,
            "overflow_x": null,
            "overflow_y": null,
            "padding": null,
            "right": null,
            "top": null,
            "visibility": null,
            "width": null
          }
        },
        "c6c0824a02054f8890ac69aca5feaf35": {
          "model_module": "@jupyter-widgets/controls",
          "model_name": "ProgressStyleModel",
          "model_module_version": "1.5.0",
          "state": {
            "_model_module": "@jupyter-widgets/controls",
            "_model_module_version": "1.5.0",
            "_model_name": "ProgressStyleModel",
            "_view_count": null,
            "_view_module": "@jupyter-widgets/base",
            "_view_module_version": "1.2.0",
            "_view_name": "StyleView",
            "bar_color": null,
            "description_width": ""
          }
        },
        "75dbf0b1882146daaa665fbc479ca762": {
          "model_module": "@jupyter-widgets/base",
          "model_name": "LayoutModel",
          "model_module_version": "1.2.0",
          "state": {
            "_model_module": "@jupyter-widgets/base",
            "_model_module_version": "1.2.0",
            "_model_name": "LayoutModel",
            "_view_count": null,
            "_view_module": "@jupyter-widgets/base",
            "_view_module_version": "1.2.0",
            "_view_name": "LayoutView",
            "align_content": null,
            "align_items": null,
            "align_self": null,
            "border": null,
            "bottom": null,
            "display": null,
            "flex": null,
            "flex_flow": null,
            "grid_area": null,
            "grid_auto_columns": null,
            "grid_auto_flow": null,
            "grid_auto_rows": null,
            "grid_column": null,
            "grid_gap": null,
            "grid_row": null,
            "grid_template_areas": null,
            "grid_template_columns": null,
            "grid_template_rows": null,
            "height": null,
            "justify_content": null,
            "justify_items": null,
            "left": null,
            "margin": null,
            "max_height": null,
            "max_width": null,
            "min_height": null,
            "min_width": null,
            "object_fit": null,
            "object_position": null,
            "order": null,
            "overflow": null,
            "overflow_x": null,
            "overflow_y": null,
            "padding": null,
            "right": null,
            "top": null,
            "visibility": null,
            "width": null
          }
        },
        "62a981cdc80946288cda71e8146f6701": {
          "model_module": "@jupyter-widgets/controls",
          "model_name": "DescriptionStyleModel",
          "model_module_version": "1.5.0",
          "state": {
            "_model_module": "@jupyter-widgets/controls",
            "_model_module_version": "1.5.0",
            "_model_name": "DescriptionStyleModel",
            "_view_count": null,
            "_view_module": "@jupyter-widgets/base",
            "_view_module_version": "1.2.0",
            "_view_name": "StyleView",
            "description_width": ""
          }
        }
      }
    }
  },
  "cells": [
    {
      "cell_type": "markdown",
      "metadata": {
        "id": "view-in-github",
        "colab_type": "text"
      },
      "source": [
        "<a href=\"https://colab.research.google.com/github/GaryM02/fyp_repo/blob/main/Colab%20Notebooks/fyp_model_exp.ipynb\" target=\"_parent\"><img src=\"https://colab.research.google.com/assets/colab-badge.svg\" alt=\"Open In Colab\"/></a>"
      ]
    },
    {
      "cell_type": "code",
      "execution_count": null,
      "metadata": {
        "colab": {
          "base_uri": "https://localhost:8080/"
        },
        "id": "yY_47NXg5YDx",
        "outputId": "3e3c2546-bfdc-41cd-f254-13bc6a67caf4"
      },
      "outputs": [
        {
          "output_type": "stream",
          "name": "stdout",
          "text": [
            "Mounted at /content/drive\n"
          ]
        }
      ],
      "source": [
        "# connect drive\n",
        "from google.colab import drive\n",
        "import os\n",
        "drive.mount('/content/drive')"
      ]
    },
    {
      "cell_type": "code",
      "source": [
        "os.chdir('/content/drive/My Drive/Colab Notebooks/PredictiveAnalytics')"
      ],
      "metadata": {
        "id": "Lp4wUJ-W5eVs"
      },
      "execution_count": null,
      "outputs": []
    },
    {
      "cell_type": "markdown",
      "source": [
        "## Retrieval Pipeline (Putting It All Together)\n",
        "1. Embed Articles: Generate embeddings for the input article and your source collection using a pretrained transformer.\n",
        "2. Initial Similarity Search: Use cosine similarity to retrieve top candidate articles from the source collection based on embeddings.\n",
        "3. Topic Matching: Filter the candidate set based on topical similarity to ensure the retrieved articles match the theme of the input.\n",
        "4. Entity and Keyword Matching: Apply additional filtering based on entities and keywords to focus on articles with specific content overlap.\n",
        "5. Credibility Scoring: If required, use anomaly detection to prioritize articles with higher credibility or alignment with known reliable sources."
      ],
      "metadata": {
        "id": "gMh6I56Y6XCo"
      }
    },
    {
      "cell_type": "markdown",
      "source": [
        "# 1. Embed Input Article\n",
        "\n",
        "The model used to generate embeddings in parquet file ( sentence-transformers/all-MiniLM-L6-v2 )"
      ],
      "metadata": {
        "id": "5NBUS58h6gnD"
      }
    },
    {
      "cell_type": "code",
      "source": [
        "import pandas as pd\n",
        "import pyarrow as pa\n",
        "import torch\n",
        "from transformers import AutoTokenizer, AutoModel\n",
        "import gc"
      ],
      "metadata": {
        "id": "rgth3jyO8Ufy"
      },
      "execution_count": null,
      "outputs": []
    },
    {
      "cell_type": "code",
      "source": [
        "import numpy as np\n",
        "from sklearn.metrics.pairwise import cosine_similarity"
      ],
      "metadata": {
        "id": "q5kkz5-y_Hog"
      },
      "execution_count": null,
      "outputs": []
    },
    {
      "cell_type": "code",
      "source": [
        "import pprint"
      ],
      "metadata": {
        "id": "-PxjcCw3AA2T"
      },
      "execution_count": null,
      "outputs": []
    },
    {
      "cell_type": "code",
      "source": [
        "tokenizer = AutoTokenizer.from_pretrained(\"sentence-transformers/all-MiniLM-L6-v2\")\n",
        "model = AutoModel.from_pretrained(\"sentence-transformers/all-MiniLM-L6-v2\")"
      ],
      "metadata": {
        "colab": {
          "base_uri": "https://localhost:8080/",
          "height": 372,
          "referenced_widgets": [
            "e925dded94ef496bac8f7838aad70853",
            "7b64bbda0b9c4982b62b33472704c9ea",
            "bfc14c7743524867abc1747f85ba3658",
            "a03641ac29954ff0b3040a8e1d42cd16",
            "4692c719fed547bf8d28cb6576fdebed",
            "21febd34b9524f7f9bdf7521a78240f1",
            "5ad03029317f44e1a57e65af2da9b875",
            "732b930045c94136ace37e5c498b97a8",
            "3db6bef1022544318f6c672948b2689a",
            "82d2e9976c064ca484fc32dd9e192fb9",
            "45b48369547845ba88d29e1c6622adeb",
            "e3e8ec5e5b9f4c9b8eef85391bbad23c",
            "e647111dd26741b997baf00a326f15a8",
            "59e11c16dc5f4aa4a4f5b4c30c0ddfd0",
            "a784739578e84439bffa51cffb92276e",
            "aefa8e0a2a444672ae17f12efcf567a1",
            "cfcab523794c45d5810447d88e790e39",
            "8ec5e800795646c99564ae1690b5d7d3",
            "b1041ff384c0422fbd08812abde67165",
            "6a4870e5a6754ad2b6fd89c29edfe936",
            "7d556c93ff704189b886ab7a7294aa55",
            "935f2f4c96ba46608a23de7a9daff568",
            "87bda8d3cd204ded828397b710c3e513",
            "a4f0dae258d04981997f937243e0348e",
            "5b9c1b2d31d54285806863a383dd5875",
            "8bb04fcf7b424f2a99fd27b3f327c288",
            "a2dcf88c77d04f1fb9d8de1dacf59af1",
            "68cdc795d0be4aa09a2ac73926fa46e0",
            "f93228d3215146318d77abe4a2536a6a",
            "df8782858e1d421fbc7e7daa3c6e7d63",
            "f51c65786d3a4765b3b6935a8750ab12",
            "d736ec635dc044aea26d5da7cad42a48",
            "9f5f06d9985042e386cc9fbfaed48010",
            "914e28bd41074c62b9b12142a9aa58e6",
            "6e309b1260534be29f9410e6897064dd",
            "5464cb1e4f7f41a9be02c5ae173ea49a",
            "d29a7958ff12499fb66fb9c3d70d4573",
            "b240404e4c104ecda47c72e0d01d06d4",
            "fde70aaf13734c3eb461926e0a6beec3",
            "3d2bd090a8ba40cfa4ef108a1d1c40d7",
            "c30f499861f046149e3e7bfd1c61527d",
            "4c28d961f83340a0ad638c3c6f19ef74",
            "eda076f6960a428fae962d37c65f6231",
            "7ac0cfd0538f4c73864785b5274eb56b",
            "bedcf1dd76e14dea8b404bc2c1c18c22",
            "c8996b648d5a4ffa8f643e3eb1ba4e17",
            "05ba827074f24e83aa452d81b160a985",
            "8e4cd8a7295442f98fa77d334117161b",
            "ee3a3a3de0cc4b76a8cf0ecb8e7aeb8c",
            "6bc576466c7748bd94a8a9539064abcb",
            "5168bd865edd4ade91727c563cc50106",
            "ae237753da7e4cf1aa61e2d21bd62fff",
            "3fe30b51c1b84d4e9ae2bc5cd8c4ab70",
            "c5a5475a75da4f7e87a254376976d106",
            "f9db1ca6c32749ec8d178384377ea875",
            "d49e5f06646b4629bd0a686ad7504d2e",
            "ee9453280e0640a7881b7f79fcd9d744",
            "859b6cfc6c84477cabd481b302cbff6b",
            "6b63c9a07a0c42b8828e0bd882f07825",
            "2a08cd3026a44b0699173e8b278803f6",
            "10cde00a5cab4dba953f6e6034c7d091",
            "5e546dc7801147ee9f68c089ffa1d7ff",
            "af5597efb0fd43c4a29cb936ce641139",
            "c6c0824a02054f8890ac69aca5feaf35",
            "75dbf0b1882146daaa665fbc479ca762",
            "62a981cdc80946288cda71e8146f6701"
          ]
        },
        "id": "bYD4hUdJ7pAG",
        "outputId": "4c4a11ac-9aab-4c43-c6df-bad684f0b10a"
      },
      "execution_count": null,
      "outputs": [
        {
          "output_type": "stream",
          "name": "stderr",
          "text": [
            "/usr/local/lib/python3.10/dist-packages/huggingface_hub/utils/_token.py:89: UserWarning: \n",
            "The secret `HF_TOKEN` does not exist in your Colab secrets.\n",
            "To authenticate with the Hugging Face Hub, create a token in your settings tab (https://huggingface.co/settings/tokens), set it as secret in your Google Colab and restart your session.\n",
            "You will be able to reuse this secret in all of your notebooks.\n",
            "Please note that authentication is recommended but still optional to access public models or datasets.\n",
            "  warnings.warn(\n"
          ]
        },
        {
          "output_type": "display_data",
          "data": {
            "text/plain": [
              "tokenizer_config.json:   0%|          | 0.00/350 [00:00<?, ?B/s]"
            ],
            "application/vnd.jupyter.widget-view+json": {
              "version_major": 2,
              "version_minor": 0,
              "model_id": "e925dded94ef496bac8f7838aad70853"
            }
          },
          "metadata": {}
        },
        {
          "output_type": "display_data",
          "data": {
            "text/plain": [
              "vocab.txt:   0%|          | 0.00/232k [00:00<?, ?B/s]"
            ],
            "application/vnd.jupyter.widget-view+json": {
              "version_major": 2,
              "version_minor": 0,
              "model_id": "e3e8ec5e5b9f4c9b8eef85391bbad23c"
            }
          },
          "metadata": {}
        },
        {
          "output_type": "display_data",
          "data": {
            "text/plain": [
              "tokenizer.json:   0%|          | 0.00/466k [00:00<?, ?B/s]"
            ],
            "application/vnd.jupyter.widget-view+json": {
              "version_major": 2,
              "version_minor": 0,
              "model_id": "87bda8d3cd204ded828397b710c3e513"
            }
          },
          "metadata": {}
        },
        {
          "output_type": "display_data",
          "data": {
            "text/plain": [
              "special_tokens_map.json:   0%|          | 0.00/112 [00:00<?, ?B/s]"
            ],
            "application/vnd.jupyter.widget-view+json": {
              "version_major": 2,
              "version_minor": 0,
              "model_id": "914e28bd41074c62b9b12142a9aa58e6"
            }
          },
          "metadata": {}
        },
        {
          "output_type": "stream",
          "name": "stderr",
          "text": [
            "/usr/local/lib/python3.10/dist-packages/transformers/tokenization_utils_base.py:1601: FutureWarning: `clean_up_tokenization_spaces` was not set. It will be set to `True` by default. This behavior will be depracted in transformers v4.45, and will be then set to `False` by default. For more details check this issue: https://github.com/huggingface/transformers/issues/31884\n",
            "  warnings.warn(\n"
          ]
        },
        {
          "output_type": "display_data",
          "data": {
            "text/plain": [
              "config.json:   0%|          | 0.00/612 [00:00<?, ?B/s]"
            ],
            "application/vnd.jupyter.widget-view+json": {
              "version_major": 2,
              "version_minor": 0,
              "model_id": "bedcf1dd76e14dea8b404bc2c1c18c22"
            }
          },
          "metadata": {}
        },
        {
          "output_type": "display_data",
          "data": {
            "text/plain": [
              "model.safetensors:   0%|          | 0.00/90.9M [00:00<?, ?B/s]"
            ],
            "application/vnd.jupyter.widget-view+json": {
              "version_major": 2,
              "version_minor": 0,
              "model_id": "d49e5f06646b4629bd0a686ad7504d2e"
            }
          },
          "metadata": {}
        }
      ]
    },
    {
      "cell_type": "code",
      "source": [
        "def process_input(user_input, model_name=\"sentence-transformers/all-MiniLM-L6-v2\"):\n",
        "    \"\"\"\n",
        "    Generates text embeddings for a given input using a specified pre-trained model.\n",
        "    Args:\n",
        "        user_input (str): The text input for which to generate embeddings.\n",
        "        model_name (str, optional): The name of the pre-trained model to use.\n",
        "                                     Defaults to \"sentence-transformers/all-MiniLM-L6-v2\".\n",
        "    Returns:\n",
        "        numpy.ndarray: The generated text embeddings as a NumPy array.\n",
        "    \"\"\"\n",
        "    # Load tokenizer and model only once if possible\n",
        "    global tokenizer, model\n",
        "    if tokenizer is None or model is None:\n",
        "        tokenizer = AutoTokenizer.from_pretrained(model_name)\n",
        "        model = AutoModel.from_pretrained(model_name)\n",
        "        model = model.to(\"cuda\" if torch.cuda.is_available() else \"cpu\")\n",
        "        model.eval()\n",
        "\n",
        "    inputs = tokenizer(user_input[\"abstract\"], padding=True, truncation=True, return_tensors=\"pt\").to(model.device)\n",
        "    with torch.no_grad():\n",
        "        embeddings = model(**inputs).last_hidden_state.mean(dim=1).cpu().numpy()\n",
        "\n",
        "    return embeddings"
      ],
      "metadata": {
        "id": "C6y2AUts6Nha"
      },
      "execution_count": null,
      "outputs": []
    },
    {
      "cell_type": "code",
      "source": [
        "user_input = {\"title\": \"Novel Treatment for Alzheimer's Disease\", \"abstract\": \"A significant influence of age on CBF and metabolism in patients with dementia was not found.\"}"
      ],
      "metadata": {
        "id": "ejBHRoRU9mZH"
      },
      "execution_count": null,
      "outputs": []
    },
    {
      "cell_type": "code",
      "source": [
        "embeddings = process_input(user_input)"
      ],
      "metadata": {
        "id": "ve75s71996VO"
      },
      "execution_count": null,
      "outputs": []
    },
    {
      "cell_type": "code",
      "source": [
        "print(embeddings.shape)"
      ],
      "metadata": {
        "colab": {
          "base_uri": "https://localhost:8080/"
        },
        "id": "SPCzr162-kMV",
        "outputId": "48352822-d0fd-485e-d84d-6a8f38417c38"
      },
      "execution_count": null,
      "outputs": [
        {
          "output_type": "stream",
          "name": "stdout",
          "text": [
            "(1, 384)\n"
          ]
        }
      ]
    },
    {
      "cell_type": "markdown",
      "source": [
        "# 2. Initial Similarity Search"
      ],
      "metadata": {
        "id": "l2qGMETJ6o7f"
      }
    },
    {
      "cell_type": "code",
      "source": [
        "def retrieve_top_articles(embeddings, top_k=5):\n",
        "    \"\"\"\n",
        "    Retrieves the top k candidate articles from the source collection based on cosine similarity.\n",
        "\n",
        "    Args:\n",
        "        embeddings (np.ndarray): Embeddings of the input article.\n",
        "        top_k (int): The number of top articles to retrieve.\n",
        "\n",
        "    Returns:\n",
        "        pd.DataFrame: DataFrame of the top k articles.\n",
        "    \"\"\"\n",
        "\n",
        "    # Load the source collection\n",
        "    source_collection = pd.read_parquet(\"Data/pubmed/parquet/pubmed_with_embeddings.parquet\")\n",
        "\n",
        "    # Calculate cosine similarity between input and source collection embeddings\n",
        "    source_embeddings = np.stack(source_collection['embedding'].values)\n",
        "    similarities = cosine_similarity(embeddings, source_embeddings)\n",
        "\n",
        "    # Get indices of top k similar articles\n",
        "    top_indices = np.argsort(similarities[0])[::-1][:top_k]\n",
        "\n",
        "    # Return top k articles\n",
        "    return source_collection.iloc[top_indices]"
      ],
      "metadata": {
        "id": "zTnixTAe7CIG"
      },
      "execution_count": null,
      "outputs": []
    },
    {
      "cell_type": "code",
      "source": [
        "top_articles = retrieve_top_articles(embeddings.reshape(1, -1))"
      ],
      "metadata": {
        "id": "bfrEVvxB_Y2c"
      },
      "execution_count": null,
      "outputs": []
    },
    {
      "cell_type": "code",
      "source": [
        "for index, row in top_articles.iterrows():\n",
        "    print(row['abstract'])"
      ],
      "metadata": {
        "colab": {
          "base_uri": "https://localhost:8080/"
        },
        "id": "VjSSGl6d_2f8",
        "outputId": "81139932-dea2-4aaa-9e31-d55f3f04e9e8"
      },
      "execution_count": null,
      "outputs": [
        {
          "output_type": "stream",
          "name": "stdout",
          "text": [
            "The purpose of this retrospective study was to investigate how the blood flow and oxidative metabolism of the brain was changed in dementia and the influence of the age factor. Cerebral blood flow (CBF) was measured in 115 patients aged from 40 to 83 years by means of the Kety-Schmidt technique with the modification of Bernsmeier and Siemons. The cerebral metabolic rates of oxygen and CO2 were determined by the van Slyke method and by gaschromatography respectively and of glucose and lactate by standard enzymatic methods. All cases of dementia due to head injuries, cerebral infections, cerebral infarctions, exogenous or endogenous intoxications or circulatory diseases were excluded from this study, but no classification of the dementias was made. Statistical calculations were carried out by means of the analysis of variance for a two-way design. Cerebral blood flow did not show a normal distribution curve but was at least triphasic; CBF in demented patients was either lower than normal, normal or higher than normal. The distribution curves showed further that a low cerebral blood flow of mean 32.5 ml/100 g min coincided with a low CMR oxygen of 2.50 ml/100 g min; however, CMR glucose was either low (2.50 mg/100 g min), or nearly normal (4.50 mg/100 g min) or elevated (7.50 mg/100 g min). A normal (45.0 ml/100 g min) or enhanced (62.5 ml/100 g min) CBF correlated with a CMR oxygen which was either decreased to 2.75 ml/100 g min or increased to 4.75 ml/100 g min; CMR glucose was either decreased to 1.50 mg/100 g min, or nearly normal (4.50 mg/100 g min), or was elevated to 6.50 and 10.50 mg/100 g min with respect to the peaks of the distribution curves. It is assumed that the variability of the findings with respect to the blood flow and oxidative metabolism of the brain in dementia is due to different pathophysiological and pathobiochemical disturbances in the brain. A significant influence of age on CBF and metabolism in patients with dementia was not found.\n",
            "Fifty-six brains from middle-aged and elderly normal as well as demented subjects and patients with provisional clinical diagnosis of other neurological and psychiatric diseases were assessed histologically. On this basis the specimens were classified into 14 diagnostic groups. A survey of potential indices of specific neurons has been carried out on these brains in which neurotransmitter-related enzymes, gamma-GTP (a potential index of capillaries) and specific proteins have been determined in up to 20 brain regions. In addition, the agonal state has been tentatively assessed by examining the post-mortem states of the circulatory and respiratory systems. CAT and gamma-GTP activities and the concentration of a soluble neuronal-type protein (neuronin S-5) were found to be relatively unaffected by the agonal state. When cases of senile dementia were compared to controls (matched with respect to the cause of death) the activity of CAT (the potential index of cholinergic neurons) appears to be reduced in the cerebral cortex. This is a preliminary finding, although a correlation was indicated between CAT activity and 'senile' morphological changes, the activity was markedly reduced in only 3 brains. However, despite inconsistencies in the literature (Karczmar, 1975) at least one pharmacological study on humans appears to show that the cholinergic system may be involved in age-related memory degeneration (Drachman and Leavitt, 1974). Cholinergic neurons may be abnormal in the other abiotrophies examined (Huntington's chorea, motor neuron disease and mixed vascular and senile dementia). gamma-GTP and neuronin S-5 (identical in most respects to the soluble acidic neuronal protein 14-3-2 of antigen alpha) were not reduced in senile dementia. The activities of brain decarboxylase (GAD and AAD) and the concentration of another soluble acidic brain protein (neuronin S-6) appear to be affected by the agonal state. This is remarkable because GAD and, in particular, neuronin S6, are relatively unaffected by post-mortem autolysis. As judged by the state of the extraneural systems which regulated the blood and oxygen supply to the brain it appears that terminal 'cerebral hypoxia' is responsible for the depletion of these brain constituents. This effect appears to be particularly marked in deep grey matter. In non-demented patients that die of bronchopneumonia, the areas of the cortex which are depleted in neuronin S-6 are consistent with the pattern of the 'selective vulnerability' of the cortex to hypoxia, suggesting that the terminal state can also affect the neocortex. If so, then this is particularly relevant to studies on senile dementia, for the effect of the terminal bronchopneumonia that so often occurs in these patients (and in patients with other abiotrophies) may be exacerbated by a terminal reduction in cerebral blood flow...\n",
            "Fifty-six brains from middle-aged and elderly normal as well as demented subjects and patients with provisional clinical diagnosis of other neurological and psychiatric diseases were assessed histologically. On this basis the specimens were classified into 14 diagnostic groups. A survey of potential indices of specific neurons has been carried out on these brains in which neurotransmitter-related enzymes, gamma-GTP (a potential index of capillaries) and specific proteins have been determined in up to 20 brain regions. In addition, the agonal state has been tentatively assessed by examining the post-mortem states of the circulatory and respiratory systems. CAT and gamma-GTP activities and the concentration of a soluble neuronal-type protein (neuronin S-5) were found to be relatively unaffected by the agonal state. When cases of senile dementia were compared to controls (matched with respect to the cause of death) the activity of CAT (the potential index of cholinergic neurons) appears to be reduced in the cerebral cortex. This is a preliminary finding, although a correlation was indicated between CAT activity and 'senile' morphological changes, the activity was markedly reduced in only 3 brains. However, despite inconsistencies in the literature (Karczmar, 1975) at least one pharmacological study on humans appears to show that the cholinergic system may be involved in age-related memory degeneration (Drachman and Leavitt, 1974). Cholinergic neurons may be abnormal in the other abiotrophies examined (Huntington's chorea, motor neuron disease and mixed vascular and senile dementia). gamma-GTP and neuronin S-5 (identical in most respects to the soluble acidic neuronal protein 14-3-2 of antigen alpha) were not reduced in senile dementia. The activities of brain decarboxylase (GAD and AAD) and the concentration of another soluble acidic brain protein (neuronin S-6) appear to be affected by the agonal state. This is remarkable because GAD and, in particular, neuronin S6, are relatively unaffected by post-mortem autolysis. As judged by the state of the extraneural systems which regulated the blood and oxygen supply to the brain it appears that terminal 'cerebral hypoxia' is responsible for the depletion of these brain constituents. This effect appears to be particularly marked in deep grey matter. In non-demented patients that die of bronchopneumonia, the areas of the cortex which are depleted in neuronin S-6 are consistent with the pattern of the 'selective vulnerability' of the cortex to hypoxia, suggesting that the terminal state can also affect the neocortex. If so, then this is particularly relevant to studies on senile dementia, for the effect of the terminal bronchopneumonia that so often occurs in these patients (and in patients with other abiotrophies) may be exacerbated by a terminal reduction in cerebral blood flow...\n",
            "We identified previously an intracellular cobalamin (Cbl) binding protein(s) in cultured human fibroblasts, distinct from known Cbl \"R\" binders and absent from mutant cells deficient in the synthesis of the two Cbl coenzymes. In order to further characterize this binding activity, we have investigated its homologue in rat liver. After being transported to the liver by the serum protein transcobalamin II, [57Co]Cbl was bound by at least two distinct proteins, one cytosolic, the other mitochondrial. Labeled Cbl bound to cytosolic protein faster than or prior to the mitochondrial protein. With time there was a decline in radioactivity associated with the cytosolic binder and a coordinate increase in that associated with the mitochondrial binder. Although both proteins cochromatographed on Sephadex G-150 and had apparent molecular weights of 120,000, they were separated into two discrete components by polyacrylamide gel electrophoresis and by DEAE-cellulose chromatography. The cytosolic binder cochromatographed with N5-methyltetrahydrofolate:homocysteine methyltransferase activity (5-methyltetrahydropteroyl-L-glutamate:L-homocysteine S-methyltransferase, EC 2.1.1.13); the mitochondrial one with methylmalonyl CoA mutase activity (methylmalonyl-CoA CoA-carbonylmutase, EC 5.4.99.2). These proteins were distinguished further by the chemical forms of [57Co]Cbl found with them, hydroxocobalamin and methylcobalamin with the cytosolic protein and adenosylcobalamin with the mitochondrial one. These results suggest that intracellular Cbl binding activity in rat liver can be accounted for by attachment of Cbl to the two known Cbl-dependent apoenzymes, methylmalonyl CoA mutase and methyltetrahydrofolate methyltransferase. The mechanism and significance of the observered binding protein deficiency in mutant human fibroblasts must, therefore, be re-evaluated.\n",
            "We identified previously an intracellular cobalamin (Cbl) binding protein(s) in cultured human fibroblasts, distinct from known Cbl \"R\" binders and absent from mutant cells deficient in the synthesis of the two Cbl coenzymes. In order to further characterize this binding activity, we have investigated its homologue in rat liver. After being transported to the liver by the serum protein transcobalamin II, [57Co]Cbl was bound by at least two distinct proteins, one cytosolic, the other mitochondrial. Labeled Cbl bound to cytosolic protein faster than or prior to the mitochondrial protein. With time there was a decline in radioactivity associated with the cytosolic binder and a coordinate increase in that associated with the mitochondrial binder. Although both proteins cochromatographed on Sephadex G-150 and had apparent molecular weights of 120,000, they were separated into two discrete components by polyacrylamide gel electrophoresis and by DEAE-cellulose chromatography. The cytosolic binder cochromatographed with N5-methyltetrahydrofolate:homocysteine methyltransferase activity (5-methyltetrahydropteroyl-L-glutamate:L-homocysteine S-methyltransferase, EC 2.1.1.13); the mitochondrial one with methylmalonyl CoA mutase activity (methylmalonyl-CoA CoA-carbonylmutase, EC 5.4.99.2). These proteins were distinguished further by the chemical forms of [57Co]Cbl found with them, hydroxocobalamin and methylcobalamin with the cytosolic protein and adenosylcobalamin with the mitochondrial one. These results suggest that intracellular Cbl binding activity in rat liver can be accounted for by attachment of Cbl to the two known Cbl-dependent apoenzymes, methylmalonyl CoA mutase and methyltetrahydrofolate methyltransferase. The mechanism and significance of the observered binding protein deficiency in mutant human fibroblasts must, therefore, be re-evaluated.\n"
          ]
        }
      ]
    },
    {
      "cell_type": "markdown",
      "source": [
        "# 3. Topic Matching\n",
        "Investigating HDBSCAN, KMEANs and BERTopic for unsupervised topic matching"
      ],
      "metadata": {
        "id": "CQB1ov696spb"
      }
    },
    {
      "cell_type": "code",
      "source": [
        "!pip install bertopic"
      ],
      "metadata": {
        "id": "eVUj3pQ47DW3"
      },
      "execution_count": null,
      "outputs": []
    },
    {
      "cell_type": "code",
      "source": [
        "import hdbscan\n",
        "from bertopic import BERTopic\n",
        "from sklearn.cluster import KMeans"
      ],
      "metadata": {
        "id": "Qb8lxilGFNI8"
      },
      "execution_count": null,
      "outputs": []
    },
    {
      "cell_type": "markdown",
      "source": [
        "Read embeddings to train models"
      ],
      "metadata": {
        "id": "xkNY1vOIFwan"
      }
    },
    {
      "cell_type": "code",
      "source": [
        "source_collection = pd.read_parquet(\"Data/pubmed/parquet/pubmed_with_embeddings.parquet\")\n",
        "source_embeddings = np.stack(source_collection['embedding'].values)"
      ],
      "metadata": {
        "id": "vYFjSNrGFu74"
      },
      "execution_count": null,
      "outputs": []
    },
    {
      "cell_type": "code",
      "source": [
        "clusterer = hdbscan.HDBSCAN(min_cluster_size=5, min_samples=2)  # Parameters may need tuning\n",
        "labels = clusterer.fit_predict(source_embeddings)"
      ],
      "metadata": {
        "id": "di2v4pbKFha2"
      },
      "execution_count": null,
      "outputs": []
    },
    {
      "cell_type": "markdown",
      "source": [
        "# 4. Entity and Keyword Matching"
      ],
      "metadata": {
        "id": "q3GYnZP26yiH"
      }
    },
    {
      "cell_type": "code",
      "source": [],
      "metadata": {
        "id": "1avQDYZZ7DzA"
      },
      "execution_count": null,
      "outputs": []
    },
    {
      "cell_type": "markdown",
      "source": [
        "# 5. Credibility Scoring"
      ],
      "metadata": {
        "id": "VZrL3qzK66po"
      }
    },
    {
      "cell_type": "code",
      "source": [],
      "metadata": {
        "id": "3XWBsijH7Ehx"
      },
      "execution_count": null,
      "outputs": []
    }
  ]
}